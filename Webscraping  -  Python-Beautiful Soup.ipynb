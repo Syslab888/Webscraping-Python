{
 "cells": [
  {
   "cell_type": "markdown",
   "metadata": {
    "id": "CcnNBVqJFD2A"
   },
   "source": [
    "#<b>WEBSCRAPING COM PYTHON<b>\n",
    "- OBJETIVO: REALIZAR RASPAGEM SIMPLES DE DADOS EM DOIS SITES DISTINTOS UTILIZANDO A BIBLIOTECA BEAUTIFUL SOUP."
   ]
  },
  {
   "cell_type": "markdown",
   "metadata": {
    "id": "z7Gb1LyWFD2M"
   },
   "source": [
    "**WEBSCRAPING - SITE IMDB**\n",
    "1. Download HTML page\n",
    "2. Localizar a informacao de interesse\n",
    "3. Localizar o elemento dentro do codigo fonte HTML (botao direito mouse --> inspect --> procurar). Ex: 'titleColumn'\n",
    "4. Indicar ao scrapper/extrator para retornar os elemtentos contidos na classe 'titleColumn'"
   ]
  },
  {
   "cell_type": "code",
   "execution_count": null,
   "metadata": {
    "id": "ABxSZh7IFD2O"
   },
   "outputs": [],
   "source": [
    "#WEBSCRAPING PYTHON - Beautiful Soup\n",
    "import requests\n",
    "from bs4 import BeautifulSoup"
   ]
  },
  {
   "cell_type": "code",
   "execution_count": null,
   "metadata": {
    "id": "SVhHcWSZFD2P"
   },
   "outputs": [],
   "source": [
    "#indica a pagina e dá o comando de extrair da pagina:\n",
    "url = 'https://www.imdb.com/chart/boxoffice/?ref_=nv_ch_cht'\n",
    "html = requests.get(url)"
   ]
  },
  {
   "cell_type": "markdown",
   "metadata": {
    "id": "m9oWHJSKFD2Q",
    "outputId": "2af9943f-5a39-47e9-df28-815d14446af6"
   },
   "source": [
    "#le o codigo fonte da pagina:\n",
    "bsoup1 = BeautifulSoup(html.text, 'lxml')    \n",
    "bsoup1"
   ]
  },
  {
   "cell_type": "code",
   "execution_count": null,
   "metadata": {
    "id": "TBM-u_FzFD2S",
    "outputId": "af8c8a72-3b3f-447c-c804-67b07e95d74b"
   },
   "outputs": [
    {
     "data": {
      "text/plain": [
       "'IMDb Top Box Office - IMDb'"
      ]
     },
     "execution_count": 15,
     "metadata": {
      "tags": []
     },
     "output_type": "execute_result"
    }
   ],
   "source": [
    "#procurando texto de determinada tag:\n",
    "bsoup1.find('title').getText()"
   ]
  },
  {
   "cell_type": "code",
   "execution_count": null,
   "metadata": {
    "id": "jWNjCsTiFD2T"
   },
   "outputs": [],
   "source": [
    "#buscando todos os elementos de uma classe com metodo findAll e printar tudo via funcao criada:\n",
    "titleList = bsoup1.findAll('td', {'class': 'titleColumn'})"
   ]
  },
  {
   "cell_type": "code",
   "execution_count": null,
   "metadata": {
    "id": "al8qvKHlFD2T",
    "outputId": "a9834f1a-8466-4d94-b395-9569362353d6"
   },
   "outputs": [
    {
     "name": "stdout",
     "output_type": "stream",
     "text": [
      "<td class=\"titleColumn\">\n",
      "<a href=\"/title/tt1361336\" title=\"Tim Story (dir.), Chloë Grace Moretz, Michael Peña\">Tom and Jerry</a>\n",
      "</td>\n",
      "<td class=\"titleColumn\">\n",
      "<a href=\"/title/tt2850386\" title=\"Joel Crawford (dir.), Nicolas Cage, Emma Stone\">The Croods: A New Age</a>\n",
      "</td>\n",
      "<td class=\"titleColumn\">\n",
      "<a href=\"/title/tt10016180\" title=\"John Lee Hancock (dir.), Denzel Washington, Rami Malek\">The Little Things</a>\n",
      "</td>\n",
      "<td class=\"titleColumn\">\n",
      "<a href=\"/title/tt7126948\" title=\"Patty Jenkins (dir.), Gal Gadot, Chris Pine\">Wonder Woman 1984</a>\n",
      "</td>\n",
      "<td class=\"titleColumn\">\n",
      "<a href=\"/title/tt6902332\" title=\"Robert Lorenz (dir.), Katheryn Winnick, Liam Neeson\">The Marksman</a>\n",
      "</td>\n",
      "<td class=\"titleColumn\">\n",
      "<a href=\"/title/tt9770150\" title=\"Chloé Zhao (dir.), Frances McDormand, David Strathairn\">Nomadland</a>\n",
      "</td>\n",
      "<td class=\"titleColumn\">\n",
      "<a href=\"/title/tt9784798\" title=\"Shaka King (dir.), Daniel Kaluuya, LaKeith Stanfield\">Judas and the Black Messiah</a>\n",
      "</td>\n",
      "<td class=\"titleColumn\">\n",
      "<a href=\"/title/tt6475714\" title=\"Paul W.S. Anderson (dir.), Milla Jovovich, Tony Jaa\">Monster Hunter</a>\n",
      "</td>\n",
      "<td class=\"titleColumn\">\n",
      "<a href=\"/title/tt10265034\" title=\"Robin Wright (dir.), Robin Wright, Demián Bichir\">Land</a>\n",
      "</td>\n",
      "<td class=\"titleColumn\">\n",
      "<a href=\"/title/tt6878306\" title=\"Paul Greengrass (dir.), Tom Hanks, Helena Zengel\">News of the World</a>\n",
      "</td>\n"
     ]
    }
   ],
   "source": [
    "for title in titleList:\n",
    "    print(title)"
   ]
  },
  {
   "cell_type": "code",
   "execution_count": null,
   "metadata": {
    "id": "iPelb6RyFD2U",
    "outputId": "695a0ac8-b744-449d-8154-39fa603ea4a5"
   },
   "outputs": [
    {
     "name": "stdout",
     "output_type": "stream",
     "text": [
      "\n",
      "Tom and Jerry\n",
      "\n",
      "\n",
      "The Croods: A New Age\n",
      "\n",
      "\n",
      "The Little Things\n",
      "\n",
      "\n",
      "Wonder Woman 1984\n",
      "\n",
      "\n",
      "The Marksman\n",
      "\n",
      "\n",
      "Nomadland\n",
      "\n",
      "\n",
      "Judas and the Black Messiah\n",
      "\n",
      "\n",
      "Monster Hunter\n",
      "\n",
      "\n",
      "Land\n",
      "\n",
      "\n",
      "News of the World\n",
      "\n"
     ]
    }
   ],
   "source": [
    "#printando apenas os titulos do conjunto via funcao:\n",
    "for title in titleList:\n",
    "    print(title.get_text())"
   ]
  },
  {
   "cell_type": "markdown",
   "metadata": {
    "id": "b6_XNYgg9unS"
   },
   "source": [
    "**WEBSCRAPING: SITE PYTHON.ORG**\n",
    "- Verifica-se antes se os limites para webscraping estabelecidos na página adicionando 'robots.txt' junto ao endereço confome exemplo abaixo:\n",
    "- Ex: https://www.python.org/robots.txt. #User Agent: agentes de webscraping  #Allow ou Disallow: se os agentes estão proibidos de fazer webscraping na página específica ou se determinadas páginas específicas do site não podem ser 'varridas'."
   ]
  },
  {
   "cell_type": "code",
   "execution_count": 1,
   "metadata": {
    "colab": {
     "base_uri": "https://localhost:8080/"
    },
    "id": "yv_iVf2-FD2V",
    "outputId": "5a43a350-5dfb-48fe-b36c-4a78315b7249"
   },
   "outputs": [
    {
     "name": "stdout",
     "output_type": "stream",
     "text": [
      "b'<!DOCTYPE HTML PUBLIC \"-//W3C//DTD HTML 4.01//EN\" \"http://www.w3.org/TR/html4/strict.dtd\">\\n<html>\\n<head>\\n<meta http-equiv=\"X-UA-Compatible\" content=\"IE=Edge\">\\n<meta name=\"viewport\" content=\"width=device-width, initial-scale=1\">\\n<meta http-equiv=\"Content-Type\" content=\"text/html;charset=utf-8\">\\n<meta name=\"robots\" content=\"index,nofollow\">\\n\\n<title>BeginnersGuide/Programmers - Python Wiki</title>\\n<script type=\"text/javascript\" src=\"/wiki/common/js/common.js\"></script>\\n\\n<script type=\"text/javascript\">\\n<!--\\nvar search_hint = \"Search\";\\n//-->\\n</script>\\n\\n\\n<link rel=\"stylesheet\" type=\"text/css\" charset=\"utf-8\" media=\"all\" href=\"/wiki/europython/css/common.css\">\\n<link rel=\"stylesheet\" type=\"text/css\" charset=\"utf-8\" media=\"screen\" href=\"/wiki/europython/css/screen.css\">\\n<link rel=\"stylesheet\" type=\"text/css\" charset=\"utf-8\" media=\"print\" href=\"/wiki/europython/css/print.css\">\\n<link rel=\"stylesheet\" type=\"text/css\" charset=\"utf-8\" media=\"projection\" href=\"/wiki/europython/css/projection.css\">\\n\\n<!-- css only for MS IE6/IE7 browsers -->\\n<!--[if lt IE 8]>\\n   <link rel=\"stylesheet\" type=\"text/css\" charset=\"utf-8\" media=\"all\" href=\"/wiki/europython/css/msie.css\">\\n<![endif]-->\\n\\n\\n<link rel=\"alternate\" title=\"Python Wiki: BeginnersGuide/Programmers\" href=\"/moin/BeginnersGuide/Programmers?diffs=1&amp;show_att=1&amp;action=rss_rc&amp;unique=0&amp;page=BeginnersGuide%2FProgrammers&amp;ddiffs=1\" type=\"application/rss+xml\">\\n\\n\\n<link rel=\"Start\" href=\"/moin/FrontPage\">\\n<link rel=\"Alternate\" title=\"Wiki Markup\" href=\"/moin/BeginnersGuide/Programmers?action=raw\">\\n<link rel=\"Alternate\" media=\"print\" title=\"Print View\" href=\"/moin/BeginnersGuide/Programmers?action=print\">\\n<link rel=\"Up\" href=\"/moin/BeginnersGuide\">\\n<link rel=\"Appendix\" title=\"Cpp2Python.pdf\" href=\"/moin/BeginnersGuide/Programmers?action=AttachFile&amp;do=view&amp;target=Cpp2Python.pdf\">\\n<link rel=\"Search\" href=\"/moin/FindPage\">\\n<link rel=\"Index\" href=\"/moin/TitleIndex\">\\n<link rel=\"Glossary\" href=\"/moin/WordIndex\">\\n<link rel=\"Help\" href=\"/moin/HelpOnFormatting\">\\n</head>\\n\\n<body  lang=\"en\" dir=\"ltr\">\\n\\n<div id=\"header\">\\n\\n<form id=\"searchform\" method=\"get\" action=\"/moin/BeginnersGuide/Programmers\">\\n<div>\\n<input type=\"hidden\" name=\"action\" value=\"fullsearch\">\\n<input type=\"hidden\" name=\"context\" value=\"180\">\\n<label for=\"searchinput\">Search:</label>\\n<input id=\"searchinput\" type=\"text\" name=\"value\" value=\"\" size=\"20\"\\n    onfocus=\"searchFocus(this)\" onblur=\"searchBlur(this)\"\\n    onkeyup=\"searchChange(this)\" onchange=\"searchChange(this)\" alt=\"Search\">\\n<input id=\"titlesearch\" name=\"titlesearch\" type=\"submit\"\\n    value=\"Titles\" alt=\"Search Titles\">\\n<input id=\"fullsearch\" name=\"fullsearch\" type=\"submit\"\\n    value=\"Text\" alt=\"Search Full Text\">\\n</div>\\n</form>\\n<script type=\"text/javascript\">\\n<!--// Initialize search form\\nvar f = document.getElementById(\\'searchform\\');\\nf.getElementsByTagName(\\'label\\')[0].style.display = \\'none\\';\\nvar e = document.getElementById(\\'searchinput\\');\\nsearchChange(e);\\nsearchBlur(e);\\n//-->\\n</script>\\n\\n<div id=\"logo\"><a href=\"/moin/FrontPage\"></a><a href=\"http://www.python.org\"><img src=\"/wiki/europython/img/python-logo.gif\" alt=\"Python\" ></a><a name=\"logo\"></a></div>\\n<div id=\"locationline\">\\n\\n\\n<ul id=\"pagelocation\">\\n<li><a href=\"/moin/BeginnersGuide\">BeginnersGuide</a></li><li><a href=\"/moin/BeginnersGuide/Programmers\">Programmers</a></li>\\n</ul>\\n\\n</div>\\n\\n<ul id=\"pagetrail\">\\n<li><a href=\"/moin/BeginnersGuide/Programmers\">Programmers</a></li>\\n</ul>\\n</div>\\n\\n<div id=\"sidebar\">\\n<div id=\"star\">\\n\\n</div>\\n<div class=\"sidepanel\">\\n\\n<ul id=\"navibar\">\\n<li class=\"wikilink\"><a href=\"/moin/FrontPage\">FrontPage</a></li><li class=\"wikilink\"><a href=\"/moin/RecentChanges\">RecentChanges</a></li><li class=\"wikilink\"><a href=\"/moin/FindPage\">FindPage</a></li><li class=\"wikilink\"><a href=\"/moin/HelpContents\">HelpContents</a></li><li class=\"current\"><a href=\"/moin/BeginnersGuide/Programmers\">Programmers</a></li>\\n</ul>\\n\\n</div>\\n<div class=\"sidepanel\">\\n<h1>Page</h1>\\n<ul class=\"editbar\"><li><span class=\"disabled\">Immutable Page</span></li><li class=\"toggleCommentsButton\" style=\"display:none;\"><a href=\"#\" class=\"nbcomment\" onClick=\"toggleComments();return false;\">Comments</a></li><li><a class=\"nbinfo\" href=\"/moin/BeginnersGuide/Programmers?action=info\" rel=\"nofollow\">Info</a></li><li><a class=\"nbattachments\" href=\"/moin/BeginnersGuide/Programmers?action=AttachFile\" rel=\"nofollow\">Attachments</a></li><li>\\n<form class=\"actionsmenu\" method=\"GET\" action=\"/moin/BeginnersGuide/Programmers\">\\n<div>\\n    <label>More Actions:</label>\\n    <select name=\"action\"\\n        onchange=\"if ((this.selectedIndex != 0) &&\\n                      (this.options[this.selectedIndex].disabled == false)) {\\n                this.form.submit();\\n            }\\n            this.selectedIndex = 0;\">\\n        <option value=\"raw\">Raw Text</option>\\n<option value=\"print\">Print View</option>\\n<option value=\"refresh\">Delete Cache</option>\\n<option value=\"show\" disabled class=\"disabled\">------------------------</option>\\n<option value=\"SpellCheck\">Check Spelling</option>\\n<option value=\"LikePages\">Like Pages</option>\\n<option value=\"LocalSiteMap\">Local Site Map</option>\\n<option value=\"show\" disabled class=\"disabled\">------------------------</option>\\n<option value=\"RenamePage\" disabled class=\"disabled\">Rename Page</option>\\n<option value=\"DeletePage\" disabled class=\"disabled\">Delete Page</option>\\n<option value=\"show\" disabled class=\"disabled\">------------------------</option>\\n<option value=\"show\" disabled class=\"disabled\">------------------------</option>\\n<option value=\"show\" disabled class=\"disabled\">Remove Spam</option>\\n<option value=\"show\" disabled class=\"disabled\">Revert to this revision</option>\\n<option value=\"show\" disabled class=\"disabled\">------------------------</option>\\n<option value=\"SlideShow\">SlideShow</option>\\n    </select>\\n    <input type=\"submit\" value=\"Do\">\\n    \\n</div>\\n<script type=\"text/javascript\">\\n<!--// Init menu\\nactionsMenuInit(\\'More Actions:\\');\\n//-->\\n</script>\\n</form>\\n</li></ul>\\n\\n</div>\\n<div class=\"sidepanel\">\\n<h1>User</h1>\\n<ul id=\"username\"><li><a href=\"/moin/BeginnersGuide/Programmers?action=login\" id=\"login\" rel=\"nofollow\">Login</a></li></ul>\\n</div>\\n</div>\\n\\n<div id=\"page\" lang=\"en\" dir=\"ltr\">\\n<div dir=\"ltr\" id=\"content\" lang=\"en\"><span class=\"anchor\" id=\"top\"></span>\\n<span class=\"anchor\" id=\"line-1\"></span><p class=\"line867\">\\n<h2 id=\"Please_Note\">Please Note</h2>\\n<span class=\"anchor\" id=\"line-2\"></span><p class=\"line862\">This is a Wiki page. Users with edit rights can edit it. You are therefore free to (in fact, encouraged to) add details of material that other Python users will find useful. It is <strong>not</strong> an advertising page and is here to serve the whole Python community. Users who continually edit pages to give their own materials (particularly commercial materials) prominence, or spam the listing with multiple entries which point to resources with only slightly altered material, may subsequently find their editing rights disabled. <em>You have been warned</em>. On a cheerier note - there is a constant stream of new and updated information on Python as the language is exploding in popularity.  Only enthusiastic volunteers can keep this page current, so if something helped you, feel free to link it here. <span class=\"anchor\" id=\"line-3\"></span><span class=\"anchor\" id=\"line-4\"></span><p class=\"line867\">\\n<h2 id=\"Python_for_Programmers\">Python for Programmers</h2>\\n<span class=\"anchor\" id=\"line-5\"></span><p class=\"line862\">The tutorials on this page are aimed at people who have previous experience with other programming languages (C, Perl, Lisp, Visual Basic, etc.). Also of potential interest are such related Beginners Guides as <a href=\"/moin/BeginnersGuide/Overview\">BeginnersGuide/Overview</a> and <a href=\"/moin/BeginnersGuide/NonProgrammers\">BeginnersGuide/NonProgrammers</a>, and the tips in <a href=\"/moin/MovingToPythonFromOtherLanguages\">MovingToPythonFromOtherLanguages</a>. <span class=\"anchor\" id=\"line-6\"></span><span class=\"anchor\" id=\"line-7\"></span><p class=\"line867\">\\n<h2 id=\"Books.2C_Websites.2C_Tutorials_.28non-interactive.29\">Books, Websites, Tutorials (non-interactive)</h2>\\n<span class=\"anchor\" id=\"line-8\"></span><span class=\"anchor\" id=\"line-9\"></span><p class=\"line867\">\\n<h3 id=\"Resources\">Resources</h3>\\n<span class=\"anchor\" id=\"line-10\"></span><ul><li><p class=\"line891\"><a class=\"https\" href=\"https://python.land/python-tutorial\">A beginner-friendly Python tutorial</a> that starts with the absolute basics, but also covers more advanced stuff like Python software deployment. <span class=\"anchor\" id=\"line-11\"></span></li><li><p class=\"line891\"><a class=\"http\" href=\"http://www.afterhoursprogramming.com/tutorial/Python/Introduction/\">After Hours Programming\\'s Python Introduction</a> A beginners introduction into Python. <span class=\"anchor\" id=\"line-12\"></span></li><li><p class=\"line891\"><a class=\"https\" href=\"https://awesome-python.com/\">Awesome Python</a> A curated list of awesome Python frameworks, libraries, software and resources. <span class=\"anchor\" id=\"line-13\"></span></li><li><p class=\"line891\"><a class=\"https\" href=\"https://www.checkio.org\">CheckiO interactive learning resource</a> Creative way to improve Python skills with interesting tasks, it also supports Python 3|2. <span class=\"anchor\" id=\"line-14\"></span></li><li><p class=\"line891\"><a class=\"https\" href=\"https://classpert.com/python-programming\">Classpert - Python</a> - A collection of free and paid Python online courses, from a wide range of providers. <span class=\"anchor\" id=\"line-15\"></span></li><li><p class=\"line891\"><a class=\"https\" href=\"https://coderslegacy.com\">CodersLegacy</a> A website + blog geared towards both new and experienced programmers. Mainly focused on teaching Python. <span class=\"anchor\" id=\"line-16\"></span></li><li><p class=\"line891\"><a class=\"https\" href=\"https://diveintopython3.problemsolving.io/\">Dive Into Python 3</a> by Mark Pilgrim. <span class=\"anchor\" id=\"line-17\"></span></li><li><p class=\"line891\"><a class=\"https\" href=\"https://github.com/amontalenti/elements-of-python-style\">Elements of Python Style</a> This document goes beyond PEP8 to cover the core of what the author thinks of as great Python style. <span class=\"anchor\" id=\"line-18\"></span></li><li><p class=\"line891\"><a class=\"https\" href=\"https://finxter.com/\">Finxter</a> - Solve Python puzzles and test your Python skill level (beginner to grandmaster level). <span class=\"anchor\" id=\"line-19\"></span></li><li><p class=\"line891\"><a class=\"https\" href=\"https://www.fullstackpython.com/\">Full Stack Python</a> Once you know the basics, learn how to build, deploy and operate Python Applications. <span class=\"anchor\" id=\"line-20\"></span></li><li><p class=\"line891\"><a class=\"https\" href=\"https://python-3-patterns-idioms-test.readthedocs.io/en/latest/\">Python 3 Patterns, Recipes, and Idioms</a> by Bruce Eckel and Friends. <span class=\"anchor\" id=\"line-21\"></span></li><li><p class=\"line891\"><a class=\"https\" href=\"https://www.techbeamers.com/python-tutorial-step-by-step/\">Learn Python Step by Step</a> - Start learning python from the basics to pro-level and attain proficiency. <span class=\"anchor\" id=\"line-22\"></span></li><li><p class=\"line891\"><a class=\"https\" href=\"https://overiq.com/python/3.4/intro-to-python\">Learn Python OverIQ</a> - An entry-level course to get you started with Python Programming. <span class=\"anchor\" id=\"line-23\"></span></li><li><p class=\"line891\"><a class=\"https\" href=\"https://www.programiz.com/python-programming\">Learn Python - Tutorial for Beginners</a> A comprehensive Python guide to get started, Python tutorials, and examples for beginners. <span class=\"anchor\" id=\"line-24\"></span></li><li><p class=\"line891\"><a class=\"http\" href=\"http://freepythontips.wordpress.com\">Free python tips and tutorials</a> Python tips and tutorials for beginners and professional programmers. <span class=\"anchor\" id=\"line-25\"></span></li><li><p class=\"line891\"><a class=\"http\" href=\"http://stromberg.dnsalias.org/~dstromberg/Intro-to-Python/\">Intro to Python</a> - A Brief Presentation about Python mainly aimed at experienced programmers. Might be nice as a first pass over the language. <span class=\"anchor\" id=\"line-26\"></span></li><li><p class=\"line891\"><a class=\"https\" href=\"https://www.stavros.io/tutorials/python/\">Learn Python in 10 minutes</a> <span class=\"anchor\" id=\"line-27\"></span></li><li><p class=\"line891\"><a class=\"http\" href=\"http://www.python-course.eu\">Python Course</a> - This online Python course is aiming at beginners and with advanced topics at experienced programmers as well. <span class=\"anchor\" id=\"line-28\"></span></li><li><p class=\"line891\"><a class=\"https\" href=\"https://github.com/gregmalcolm/python_koans\">Python Koans</a> Learn Python through TDD <span class=\"anchor\" id=\"line-29\"></span></li><li><p class=\"line891\"><a class=\"http\" href=\"http://mcsp.wartburg.edu/zelle/python/index.html\">Python Programming: An Introduction to Computer Science</a> by John M. Zelle. Used for CS1 courses at Wartburg College, IA. A simple Tkinter-based graphics.py module is used in textbook examples (Python 2 and 3). <span class=\"anchor\" id=\"line-30\"></span></li><li><p class=\"line891\"><a class=\"http\" href=\"http://www.linuxjournal.com/lj-issues/issue73/3946.html\">Python Programming for Beginners</a> A short introduction to writing command-line applications in Python by Jacek Artymiak. <span class=\"anchor\" id=\"line-31\"></span></li><li><p class=\"line891\"><a class=\"https\" href=\"https://pythonspeed.com/performance/\">PythonSpeed.com</a> Great resource with insightful ways to speed up your Python code <span class=\"anchor\" id=\"line-32\"></span></li><li><p class=\"line891\"><a class=\"https\" href=\"https://www.dabeaz.com/per.html\">Python Essential Reference</a> (book) If you want a highly compressed K&amp;R-style \\'just the facts\\' overview, David Beazley\\'s &quot;Python Essential Reference&quot; covers practically all of the language in about a hundred pages. A version that covers Python 3.7 is in progress. <span class=\"anchor\" id=\"line-33\"></span></li><li><p class=\"line891\"><a class=\"http\" href=\"http://codecondo.com/10-ways-to-learn-python/\">Resources for Learning Python</a> 10 of the most popular / recommended platforms in the World when it comes to learning Python, either as a complete beginner or someone who knows their way around. <span class=\"anchor\" id=\"line-34\"></span></li><li><p class=\"line891\"><a class=\"http\" href=\"http://docs.python.org/tut/\">Python Tutorial</a> This tutorial is part of Python\\'s documentation set and is updated with each new release. <span class=\"anchor\" id=\"line-35\"></span></li><li><p class=\"line891\"><a class=\"http\" href=\"http://en.wikiversity.org/wiki/Topic:Python\">Wikiversity:Python</a> The Wiki(anything) information about Python. <span class=\"anchor\" id=\"line-36\"></span></li><li><p class=\"line891\"><a class=\"https\" href=\"https://pythonspot.com/\">Python Programming Tutorials</a> Python programming tutorials. <span class=\"anchor\" id=\"line-37\"></span></li><li><p class=\"line891\"><a class=\"http\" href=\"http://thepythonguru.com/getting-started-with-python/\">Python Tutorials</a> Python in plain English. <span class=\"anchor\" id=\"line-38\"></span></li><li><p class=\"line891\"><a class=\"http\" href=\"http://www.trytoprogram.com/python-programming/\">Learn Python - Programming Made Easy</a> Simplified tutorials for beginners (Learn with relevant examples). <span class=\"anchor\" id=\"line-39\"></span></li><li><p class=\"line891\"><a class=\"https\" href=\"https://tutswiki.com/pandas-cookbook/\">Pandas Cookbook</a> A newbie friendly introduction to pandas with real-life examples. <span class=\"anchor\" id=\"line-40\"></span></li><li><p class=\"line891\"><a class=\"https\" href=\"https://github.com/huangsam/ultimate-python\">Ultimate Python study guide</a> Ultimate Python study guide for newcomers and professionals alike. <span class=\"anchor\" id=\"line-41\"></span><span class=\"anchor\" id=\"line-42\"></span></li></ul><p class=\"line867\">\\n<h2 id=\"Interactive_Tools_and_Lessons\">Interactive Tools and Lessons</h2>\\n<span class=\"anchor\" id=\"line-43\"></span><ul><li><p class=\"line891\"><a class=\"http\" href=\"http://cscircles.cemc.uwaterloo.ca\">Computer Science Circles</a> <span class=\"anchor\" id=\"line-44\"></span></li><li><p class=\"line891\"><a class=\"http\" href=\"http://interactivepython.org/courselib/static/thinkcspy/index.html\">How to Think Like a Computer Scientist, Interactive Edition</a> <span class=\"anchor\" id=\"line-45\"></span></li><li><p class=\"line891\"><a class=\"http\" href=\"http://interactivepython.org/runestone/static/pythonds/index.html\">Problem Solving with Algorithms and Data Structures using Python</a> (second-level course) <span class=\"anchor\" id=\"line-46\"></span></li><li><p class=\"line891\"><a class=\"http\" href=\"http://people.csail.mit.edu/pgbovine/python/tutor.html\">Python visualizer tool</a> <span class=\"anchor\" id=\"line-47\"></span></li><li><p class=\"line891\"><a class=\"http\" href=\"http://thonny.org\">Thonny, Python IDE for beginners. Has intuitive features for program runtime visualization</a> <span class=\"anchor\" id=\"line-48\"></span><span class=\"anchor\" id=\"line-49\"></span></li></ul><p class=\"line867\">\\n<h2 id=\"Python_Video_Tutorials\">Python Video Tutorials</h2>\\n<span class=\"anchor\" id=\"line-50\"></span><ul><li><p class=\"line891\"><a class=\"https\" href=\"https://code.tutsplus.com/courses/crawl-the-web-with-python\">Crawl the Web With Python</a> - learn to build a web crawler and scraper (paid/commercial). <span class=\"anchor\" id=\"line-51\"></span></li><li><p class=\"line891\"><a class=\"https\" href=\"https://overiq.com/django/1.10/intro-to-django/\">Django Basics</a> - An introductory course to learn basics of Django framework in great detail. <span class=\"anchor\" id=\"line-52\"></span></li><li><p class=\"line891\"><a class=\"https\" href=\"https://ocw.mit.edu/courses/electrical-engineering-and-computer-science/6-0001-introduction-to-computer-science-and-programming-in-python-fall-2016/lecture-videos/\">MIT\\'s Introduction to Computer Science and Programming in Python</a> <span class=\"anchor\" id=\"line-53\"></span></li><li><p class=\"line891\"><a class=\"https\" href=\"https://www.khanacademy.org/computing/computer-science\">Khan Academy computer science</a> playlist teaches Python. <span class=\"anchor\" id=\"line-54\"></span></li><li><p class=\"line891\"><a class=\"https\" href=\"https://youtu.be/HJSLyzm4j6Y\">Python Exception Handling for beginners</a>  - Exception handling with Python. <span class=\"anchor\" id=\"line-55\"></span></li><li><p class=\"line891\"><a class=\"https\" href=\"https://www.youtube.com/watch?v=DFLD3JjsvJo&amp;list=PLboXykqtm8dy_DNg1NZiS08Dnyj35PWXw\">Python Lists and Object Tutorial for Beginners</a> - Sorting Objects with Python. <span class=\"anchor\" id=\"line-56\"></span></li><li><p class=\"line891\"><a class=\"https\" href=\"https://youtu.be/RZF17FfRIIo\">Python OOP Tutorial for Beginners</a> - Getting started with OOP programming with Python. <span class=\"anchor\" id=\"line-57\"></span></li><li><p class=\"line891\"><a class=\"https\" href=\"https://www.youtube.com/playlist?list=PLlgoYPTU6ljCEggReCMF0m0760QTot9Qz\">Python Screencasts</a> (36 videos) <span class=\"anchor\" id=\"line-58\"></span><span class=\"anchor\" id=\"line-59\"></span></li></ul><p class=\"line867\">\\n<h2 id=\"Python_video_tutorial_.28commercial.2Fpaid.29\">Python video tutorial (commercial/paid)</h2>\\n<span class=\"anchor\" id=\"line-60\"></span><ul><li><p class=\"line891\"><a class=\"https\" href=\"https://code.tutsplus.com/courses/getting-started-with-django\">Getting Started With Django</a> - learn the Django back-end framework from scratch (paid/commercial) <span class=\"anchor\" id=\"line-61\"></span></li><li><p class=\"line891\"><a class=\"https\" href=\"https://code.tutsplus.com/courses/build-a-news-aggregator-with-django\">Build a News Aggregator With Django</a> - learn advanced Django skills with a hands-on project (paid/commercial) <span class=\"anchor\" id=\"line-62\"></span></li><li><p class=\"line891\"><a class=\"https\" href=\"https://code.tutsplus.com/courses/data-handling-with-python\">Data Handling With Python</a> - learn the basics of handling data in the Python language (paid/commercial). <span class=\"anchor\" id=\"line-63\"></span><span class=\"anchor\" id=\"line-64\"></span></li></ul><p class=\"line867\">\\n<h2 id=\"Free_Python_Courses\">Free Python Courses</h2>\\n<span class=\"anchor\" id=\"line-65\"></span><ul><li><p class=\"line891\"><a class=\"https\" href=\"https://blog.finxter.com/subscribe\">Free Python 3 email course</a> (almost daily Python lesson + cheat sheets, email required) <span class=\"anchor\" id=\"line-66\"></span></li><li><p class=\"line891\"><a class=\"https\" href=\"https://www.codecademy.com/learn/learn-python-3\">Free Python 3 course</a> (almost daily Python lesson + cheat sheets) <span class=\"anchor\" id=\"line-67\"></span><span class=\"anchor\" id=\"line-68\"></span></li></ul><p class=\"line867\">\\n<h3 id=\"Other_Python_Resource_Aggregators\">Other Python Resource Aggregators</h3>\\n<span class=\"anchor\" id=\"line-69\"></span><ul><li><p class=\"line891\"><a class=\"https\" href=\"https://hackr.io/tutorials/learn-python\">Learn Python - Best Python Tutorials and Courses</a> Python tutorials &amp; courses recommended by the programming community. <span class=\"anchor\" id=\"line-70\"></span></li><li><p class=\"line891\"><a class=\"https\" href=\"https://gitconnected.com/learn/python\">Learn Python - Best Python Courses</a> Python tutorials submitted and ranked by Python developers with the best rising to the top <span class=\"anchor\" id=\"line-71\"></span><span class=\"anchor\" id=\"line-72\"></span></li></ul><p class=\"line867\"><hr /><p class=\"line874\"> <span class=\"anchor\" id=\"line-73\"></span><a href=\"/moin/CategoryPythonWebsite\">CategoryPythonWebsite</a> <span class=\"anchor\" id=\"line-74\"></span><span class=\"anchor\" id=\"bottom\"></span></div><p id=\"pageinfo\" class=\"info\" lang=\"en\" dir=\"ltr\">BeginnersGuide/Programmers  (last edited 2021-02-18 20:24:44 by <span title=\"eriky @ 92-108-65-211.cable.dynamic.v4.ziggo.nl[92.108.65.211]\"><a class=\"nonexistent\" href=\"/moin/eriky\" title=\"eriky @ 92-108-65-211.cable.dynamic.v4.ziggo.nl[92.108.65.211]\">eriky</a></span>)</p>\\n\\n<div id=\"pagebottom\"></div>\\n</div>\\n\\n\\n<div id=\"footer\">\\n<ul id=\"credits\">\\n<li><a href=\"http://moinmo.in/\" title=\"This site uses the MoinMoin Wiki software.\">MoinMoin Powered</a></li><li><a href=\"http://moinmo.in/Python\" title=\"MoinMoin is written in Python.\">Python Powered</a></li><li><a href=\"http://moinmo.in/GPL\" title=\"MoinMoin is GPL licensed.\">GPL licensed</a></li><li><a href=\"http://validator.w3.org/check?uri=referer\" title=\"Click here to validate this page.\">Valid HTML 4.01</a></li>\\n</ul>\\n\\n\\n</div>\\n<p style=\"text-align: center; font-size: 85%\"><a href=\"/moin/FrontPage#use\">Unable to edit the page? See the FrontPage for instructions.</a></p></body>\\n</html>\\n\\n'\n"
     ]
    }
   ],
   "source": [
    "#Importando bibliotecas e indicando endereço do conteúdo para raspagem de dados:\n",
    "from bs4 import BeautifulSoup\n",
    "from urllib.request import urlopen\n",
    "\n",
    "with urlopen(\"https://wiki.python.org/moin/BeginnersGuide/Programmers\") as url:\n",
    "    pagina = url.read()  #lendo a página e salvando como informação em variável criada\n",
    "\n",
    "print(pagina)   #retorna o conteúdo html da página"
   ]
  },
  {
   "cell_type": "code",
   "execution_count": 3,
   "metadata": {
    "id": "zopznL6q9unU"
   },
   "outputs": [],
   "source": [
    "#Instanciando a função BeautifulSoup informando a página que queremos 'vasculhar' e o método para esta ação 'html.parser'. \n",
    "#Todas estas informações são salvas na variável criada.\n",
    "soup = BeautifulSoup(pagina, \"html.parser\")"
   ]
  },
  {
   "cell_type": "code",
   "execution_count": 4,
   "metadata": {
    "colab": {
     "base_uri": "https://localhost:8080/"
    },
    "id": "oMJySzqf9unU",
    "outputId": "db2b29cc-7418-4106-aa92-2b3044f255cb"
   },
   "outputs": [
    {
     "name": "stdout",
     "output_type": "stream",
     "text": [
      "<title>BeginnersGuide/Programmers - Python Wiki</title>\n"
     ]
    }
   ],
   "source": [
    "# Filtrando títulos com a tag <title>\n",
    "print(soup.title)"
   ]
  },
  {
   "cell_type": "code",
   "execution_count": null,
   "metadata": {
    "colab": {
     "base_uri": "https://localhost:8080/"
    },
    "id": "r0zaQyJG9unV",
    "outputId": "065f54a9-77d5-4d39-faff-809fa7608dcc"
   },
   "outputs": [
    {
     "name": "stdout",
     "output_type": "stream",
     "text": [
      "BeginnersGuide/Programmers - Python Wiki\n"
     ]
    }
   ],
   "source": [
    "print(soup.title.string)"
   ]
  },
  {
   "cell_type": "code",
   "execution_count": null,
   "metadata": {
    "colab": {
     "base_uri": "https://localhost:8080/"
    },
    "id": "pDLKTFy19unW",
    "outputId": "7805306e-faca-4007-a128-8d62884d2477"
   },
   "outputs": [
    {
     "name": "stdout",
     "output_type": "stream",
     "text": [
      "<h1>Page</h1>\n"
     ]
    }
   ],
   "source": [
    "# Filtrando a tag <h1>\n",
    "print(soup.h1)"
   ]
  },
  {
   "cell_type": "code",
   "execution_count": 5,
   "metadata": {
    "colab": {
     "base_uri": "https://localhost:8080/"
    },
    "id": "68OVjxH-9unW",
    "outputId": "34b31765-26c9-4c95-b2bf-3ba2138ee56c"
   },
   "outputs": [
    {
     "data": {
      "text/plain": [
       "[<a href=\"/moin/FrontPage\"></a>,\n",
       " <a href=\"http://www.python.org\"><img alt=\"Python\" src=\"/wiki/europython/img/python-logo.gif\"/></a>,\n",
       " <a name=\"logo\"></a>,\n",
       " <a href=\"/moin/BeginnersGuide\">BeginnersGuide</a>,\n",
       " <a href=\"/moin/BeginnersGuide/Programmers\">Programmers</a>,\n",
       " <a href=\"/moin/BeginnersGuide/Programmers\">Programmers</a>,\n",
       " <a href=\"/moin/FrontPage\">FrontPage</a>,\n",
       " <a href=\"/moin/RecentChanges\">RecentChanges</a>,\n",
       " <a href=\"/moin/FindPage\">FindPage</a>,\n",
       " <a href=\"/moin/HelpContents\">HelpContents</a>,\n",
       " <a href=\"/moin/BeginnersGuide/Programmers\">Programmers</a>,\n",
       " <a class=\"nbcomment\" href=\"#\" onclick=\"toggleComments();return false;\">Comments</a>,\n",
       " <a class=\"nbinfo\" href=\"/moin/BeginnersGuide/Programmers?action=info\" rel=\"nofollow\">Info</a>,\n",
       " <a class=\"nbattachments\" href=\"/moin/BeginnersGuide/Programmers?action=AttachFile\" rel=\"nofollow\">Attachments</a>,\n",
       " <a href=\"/moin/BeginnersGuide/Programmers?action=login\" id=\"login\" rel=\"nofollow\">Login</a>,\n",
       " <a href=\"/moin/BeginnersGuide/Overview\">BeginnersGuide/Overview</a>,\n",
       " <a href=\"/moin/BeginnersGuide/NonProgrammers\">BeginnersGuide/NonProgrammers</a>,\n",
       " <a href=\"/moin/MovingToPythonFromOtherLanguages\">MovingToPythonFromOtherLanguages</a>,\n",
       " <a class=\"https\" href=\"https://python.land/python-tutorial\">A beginner-friendly Python tutorial</a>,\n",
       " <a class=\"http\" href=\"http://www.afterhoursprogramming.com/tutorial/Python/Introduction/\">After Hours Programming's Python Introduction</a>,\n",
       " <a class=\"https\" href=\"https://awesome-python.com/\">Awesome Python</a>,\n",
       " <a class=\"https\" href=\"https://www.checkio.org\">CheckiO interactive learning resource</a>,\n",
       " <a class=\"https\" href=\"https://classpert.com/python-programming\">Classpert - Python</a>,\n",
       " <a class=\"https\" href=\"https://coderslegacy.com\">CodersLegacy</a>,\n",
       " <a class=\"https\" href=\"https://diveintopython3.problemsolving.io/\">Dive Into Python 3</a>,\n",
       " <a class=\"https\" href=\"https://github.com/amontalenti/elements-of-python-style\">Elements of Python Style</a>,\n",
       " <a class=\"https\" href=\"https://finxter.com/\">Finxter</a>,\n",
       " <a class=\"https\" href=\"https://www.fullstackpython.com/\">Full Stack Python</a>,\n",
       " <a class=\"https\" href=\"https://python-3-patterns-idioms-test.readthedocs.io/en/latest/\">Python 3 Patterns, Recipes, and Idioms</a>,\n",
       " <a class=\"https\" href=\"https://www.techbeamers.com/python-tutorial-step-by-step/\">Learn Python Step by Step</a>,\n",
       " <a class=\"https\" href=\"https://overiq.com/python/3.4/intro-to-python\">Learn Python OverIQ</a>,\n",
       " <a class=\"https\" href=\"https://www.programiz.com/python-programming\">Learn Python - Tutorial for Beginners</a>,\n",
       " <a class=\"http\" href=\"http://freepythontips.wordpress.com\">Free python tips and tutorials</a>,\n",
       " <a class=\"http\" href=\"http://stromberg.dnsalias.org/~dstromberg/Intro-to-Python/\">Intro to Python</a>,\n",
       " <a class=\"https\" href=\"https://www.stavros.io/tutorials/python/\">Learn Python in 10 minutes</a>,\n",
       " <a class=\"http\" href=\"http://www.python-course.eu\">Python Course</a>,\n",
       " <a class=\"https\" href=\"https://github.com/gregmalcolm/python_koans\">Python Koans</a>,\n",
       " <a class=\"http\" href=\"http://mcsp.wartburg.edu/zelle/python/index.html\">Python Programming: An Introduction to Computer Science</a>,\n",
       " <a class=\"http\" href=\"http://www.linuxjournal.com/lj-issues/issue73/3946.html\">Python Programming for Beginners</a>,\n",
       " <a class=\"https\" href=\"https://pythonspeed.com/performance/\">PythonSpeed.com</a>,\n",
       " <a class=\"https\" href=\"https://www.dabeaz.com/per.html\">Python Essential Reference</a>,\n",
       " <a class=\"http\" href=\"http://codecondo.com/10-ways-to-learn-python/\">Resources for Learning Python</a>,\n",
       " <a class=\"http\" href=\"http://docs.python.org/tut/\">Python Tutorial</a>,\n",
       " <a class=\"http\" href=\"http://en.wikiversity.org/wiki/Topic:Python\">Wikiversity:Python</a>,\n",
       " <a class=\"https\" href=\"https://pythonspot.com/\">Python Programming Tutorials</a>,\n",
       " <a class=\"http\" href=\"http://thepythonguru.com/getting-started-with-python/\">Python Tutorials</a>,\n",
       " <a class=\"http\" href=\"http://www.trytoprogram.com/python-programming/\">Learn Python - Programming Made Easy</a>,\n",
       " <a class=\"https\" href=\"https://tutswiki.com/pandas-cookbook/\">Pandas Cookbook</a>,\n",
       " <a class=\"https\" href=\"https://github.com/huangsam/ultimate-python\">Ultimate Python study guide</a>,\n",
       " <a class=\"http\" href=\"http://cscircles.cemc.uwaterloo.ca\">Computer Science Circles</a>,\n",
       " <a class=\"http\" href=\"http://interactivepython.org/courselib/static/thinkcspy/index.html\">How to Think Like a Computer Scientist, Interactive Edition</a>,\n",
       " <a class=\"http\" href=\"http://interactivepython.org/runestone/static/pythonds/index.html\">Problem Solving with Algorithms and Data Structures using Python</a>,\n",
       " <a class=\"http\" href=\"http://people.csail.mit.edu/pgbovine/python/tutor.html\">Python visualizer tool</a>,\n",
       " <a class=\"http\" href=\"http://thonny.org\">Thonny, Python IDE for beginners. Has intuitive features for program runtime visualization</a>,\n",
       " <a class=\"https\" href=\"https://code.tutsplus.com/courses/crawl-the-web-with-python\">Crawl the Web With Python</a>,\n",
       " <a class=\"https\" href=\"https://overiq.com/django/1.10/intro-to-django/\">Django Basics</a>,\n",
       " <a class=\"https\" href=\"https://ocw.mit.edu/courses/electrical-engineering-and-computer-science/6-0001-introduction-to-computer-science-and-programming-in-python-fall-2016/lecture-videos/\">MIT's Introduction to Computer Science and Programming in Python</a>,\n",
       " <a class=\"https\" href=\"https://www.khanacademy.org/computing/computer-science\">Khan Academy computer science</a>,\n",
       " <a class=\"https\" href=\"https://youtu.be/HJSLyzm4j6Y\">Python Exception Handling for beginners</a>,\n",
       " <a class=\"https\" href=\"https://www.youtube.com/watch?v=DFLD3JjsvJo&amp;list=PLboXykqtm8dy_DNg1NZiS08Dnyj35PWXw\">Python Lists and Object Tutorial for Beginners</a>,\n",
       " <a class=\"https\" href=\"https://youtu.be/RZF17FfRIIo\">Python OOP Tutorial for Beginners</a>,\n",
       " <a class=\"https\" href=\"https://www.youtube.com/playlist?list=PLlgoYPTU6ljCEggReCMF0m0760QTot9Qz\">Python Screencasts</a>,\n",
       " <a class=\"https\" href=\"https://code.tutsplus.com/courses/getting-started-with-django\">Getting Started With Django</a>,\n",
       " <a class=\"https\" href=\"https://code.tutsplus.com/courses/build-a-news-aggregator-with-django\">Build a News Aggregator With Django</a>,\n",
       " <a class=\"https\" href=\"https://code.tutsplus.com/courses/data-handling-with-python\">Data Handling With Python</a>,\n",
       " <a class=\"https\" href=\"https://blog.finxter.com/subscribe\">Free Python 3 email course</a>,\n",
       " <a class=\"https\" href=\"https://www.codecademy.com/learn/learn-python-3\">Free Python 3 course</a>,\n",
       " <a class=\"https\" href=\"https://hackr.io/tutorials/learn-python\">Learn Python - Best Python Tutorials and Courses</a>,\n",
       " <a class=\"https\" href=\"https://gitconnected.com/learn/python\">Learn Python - Best Python Courses</a>,\n",
       " <a href=\"/moin/CategoryPythonWebsite\">CategoryPythonWebsite</a>,\n",
       " <a class=\"nonexistent\" href=\"/moin/eriky\" title=\"eriky @ 92-108-65-211.cable.dynamic.v4.ziggo.nl[92.108.65.211]\">eriky</a>,\n",
       " <a href=\"http://moinmo.in/\" title=\"This site uses the MoinMoin Wiki software.\">MoinMoin Powered</a>,\n",
       " <a href=\"http://moinmo.in/Python\" title=\"MoinMoin is written in Python.\">Python Powered</a>,\n",
       " <a href=\"http://moinmo.in/GPL\" title=\"MoinMoin is GPL licensed.\">GPL licensed</a>,\n",
       " <a href=\"http://validator.w3.org/check?uri=referer\" title=\"Click here to validate this page.\">Valid HTML 4.01</a>,\n",
       " <a href=\"/moin/FrontPage#use\">Unable to edit the page? See the FrontPage for instructions.</a>]"
      ]
     },
     "execution_count": 5,
     "metadata": {
      "tags": []
     },
     "output_type": "execute_result"
    }
   ],
   "source": [
    "# Coletando conteúdo com a tag a (tag a = HREF, hyperlinks)\n",
    "soup.find_all(\"a\")"
   ]
  },
  {
   "cell_type": "code",
   "execution_count": 6,
   "metadata": {
    "colab": {
     "base_uri": "https://localhost:8080/",
     "height": 35
    },
    "id": "iSHsP30_9unX",
    "outputId": "48e8cc6c-4ac1-4e0e-dd3c-d15aa46db36b"
   },
   "outputs": [
    {
     "data": {
      "application/vnd.google.colaboratory.intrinsic+json": {
       "type": "string"
      },
      "text/plain": [
       "'Python'"
      ]
     },
     "execution_count": 6,
     "metadata": {
      "tags": []
     },
     "output_type": "execute_result"
    }
   ],
   "source": [
    "# Filtrando alts de imagens. Atributo alt de imagens: atributo que aparece caso a imagem não seja carregada, texto alternativo\n",
    "#que fornece informações sobre a imagem.\n",
    "soup.img['alt']"
   ]
  },
  {
   "cell_type": "code",
   "execution_count": null,
   "metadata": {
    "colab": {
     "base_uri": "https://localhost:8080/"
    },
    "id": "ytD34SdZ9unX",
    "outputId": "7a021ad6-1df1-4dd6-9e41-40d1cd0a1c74"
   },
   "outputs": [
    {
     "name": "stdout",
     "output_type": "stream",
     "text": [
      "\n",
      "Please Note\n",
      "This is a Wiki page. Users with edit rights can edit it. You are therefore free to (in fact, encouraged to) add details of material that other Python users will find useful. It is not an advertising page and is here to serve the whole Python community. Users who continually edit pages to give their own materials (particularly commercial materials) prominence, or spam the listing with multiple entries which point to resources with only slightly altered material, may subsequently find their editing rights disabled. You have been warned. On a cheerier note - there is a constant stream of new and updated information on Python as the language is exploding in popularity.  Only enthusiastic volunteers can keep this page current, so if something helped you, feel free to link it here. \n",
      "Python for Programmers\n",
      "The tutorials on this page are aimed at people who have previous experience with other programming languages (C, Perl, Lisp, Visual Basic, etc.). Also of potential interest are such related Beginners Guides as BeginnersGuide/Overview and BeginnersGuide/NonProgrammers, and the tips in MovingToPythonFromOtherLanguages. \n",
      "Books, Websites, Tutorials (non-interactive)\n",
      "\n",
      "Resources\n",
      "A beginner-friendly Python tutorial that starts with the absolute basics, but also covers more advanced stuff like Python software deployment. After Hours Programming's Python Introduction A beginners introduction into Python. Awesome Python A curated list of awesome Python frameworks, libraries, software and resources. CheckiO interactive learning resource Creative way to improve Python skills with interesting tasks, it also supports Python 3|2. Classpert - Python - A collection of free and paid Python online courses, from a wide range of providers. CodersLegacy A website + blog geared towards both new and experienced programmers. Mainly focused on teaching Python. Dive Into Python 3 by Mark Pilgrim. Elements of Python Style This document goes beyond PEP8 to cover the core of what the author thinks of as great Python style. Finxter - Solve Python puzzles and test your Python skill level (beginner to grandmaster level). Full Stack Python Once you know the basics, learn how to build, deploy and operate Python Applications. Python 3 Patterns, Recipes, and Idioms by Bruce Eckel and Friends. Learn Python Step by Step - Start learning python from the basics to pro-level and attain proficiency. Learn Python OverIQ - An entry-level course to get you started with Python Programming. Learn Python - Tutorial for Beginners A comprehensive Python guide to get started, Python tutorials, and examples for beginners. Free python tips and tutorials Python tips and tutorials for beginners and professional programmers. Intro to Python - A Brief Presentation about Python mainly aimed at experienced programmers. Might be nice as a first pass over the language. Learn Python in 10 minutes Python Course - This online Python course is aiming at beginners and with advanced topics at experienced programmers as well. Python Koans Learn Python through TDD Python Programming: An Introduction to Computer Science by John M. Zelle. Used for CS1 courses at Wartburg College, IA. A simple Tkinter-based graphics.py module is used in textbook examples (Python 2 and 3). Python Programming for Beginners A short introduction to writing command-line applications in Python by Jacek Artymiak. PythonSpeed.com Great resource with insightful ways to speed up your Python code Python Essential Reference (book) If you want a highly compressed K&R-style 'just the facts' overview, David Beazley's \"Python Essential Reference\" covers practically all of the language in about a hundred pages. A version that covers Python 3.7 is in progress. Resources for Learning Python 10 of the most popular / recommended platforms in the World when it comes to learning Python, either as a complete beginner or someone who knows their way around. Python Tutorial This tutorial is part of Python's documentation set and is updated with each new release. Wikiversity:Python The Wiki(anything) information about Python. Python Programming Tutorials Python programming tutorials. Python Tutorials Python in plain English. Learn Python - Programming Made Easy Simplified tutorials for beginners (Learn with relevant examples). Pandas Cookbook A newbie friendly introduction to pandas with real-life examples. Ultimate Python study guide Ultimate Python study guide for newcomers and professionals alike. \n",
      "Interactive Tools and Lessons\n",
      "Computer Science Circles How to Think Like a Computer Scientist, Interactive Edition Problem Solving with Algorithms and Data Structures using Python (second-level course) Python visualizer tool Thonny, Python IDE for beginners. Has intuitive features for program runtime visualization \n",
      "Python Video Tutorials\n",
      "Crawl the Web With Python - learn to build a web crawler and scraper (paid/commercial). Django Basics - An introductory course to learn basics of Django framework in great detail. MIT's Introduction to Computer Science and Programming in Python Khan Academy computer science playlist teaches Python. Python Exception Handling for beginners  - Exception handling with Python. Python Lists and Object Tutorial for Beginners - Sorting Objects with Python. Python OOP Tutorial for Beginners - Getting started with OOP programming with Python. Python Screencasts (36 videos) \n",
      "Python video tutorial (commercial/paid)\n",
      "Getting Started With Django - learn the Django back-end framework from scratch (paid/commercial) Build a News Aggregator With Django - learn advanced Django skills with a hands-on project (paid/commercial) Data Handling With Python - learn the basics of handling data in the Python language (paid/commercial). \n",
      "Free Python Courses\n",
      "Free Python 3 email course (almost daily Python lesson + cheat sheets, email required) Free Python 3 course (almost daily Python lesson + cheat sheets) \n",
      "Other Python Resource Aggregators\n",
      "Learn Python - Best Python Tutorials and Courses Python tutorials & courses recommended by the programming community. Learn Python - Best Python Courses Python tutorials submitted and ranked by Python developers with the best rising to the top  CategoryPythonWebsite \n",
      "This is a Wiki page. Users with edit rights can edit it. You are therefore free to (in fact, encouraged to) add details of material that other Python users will find useful. It is not an advertising page and is here to serve the whole Python community. Users who continually edit pages to give their own materials (particularly commercial materials) prominence, or spam the listing with multiple entries which point to resources with only slightly altered material, may subsequently find their editing rights disabled. You have been warned. On a cheerier note - there is a constant stream of new and updated information on Python as the language is exploding in popularity.  Only enthusiastic volunteers can keep this page current, so if something helped you, feel free to link it here. \n",
      "Python for Programmers\n",
      "The tutorials on this page are aimed at people who have previous experience with other programming languages (C, Perl, Lisp, Visual Basic, etc.). Also of potential interest are such related Beginners Guides as BeginnersGuide/Overview and BeginnersGuide/NonProgrammers, and the tips in MovingToPythonFromOtherLanguages. \n",
      "Books, Websites, Tutorials (non-interactive)\n",
      "\n",
      "Resources\n",
      "A beginner-friendly Python tutorial that starts with the absolute basics, but also covers more advanced stuff like Python software deployment. After Hours Programming's Python Introduction A beginners introduction into Python. Awesome Python A curated list of awesome Python frameworks, libraries, software and resources. CheckiO interactive learning resource Creative way to improve Python skills with interesting tasks, it also supports Python 3|2. Classpert - Python - A collection of free and paid Python online courses, from a wide range of providers. CodersLegacy A website + blog geared towards both new and experienced programmers. Mainly focused on teaching Python. Dive Into Python 3 by Mark Pilgrim. Elements of Python Style This document goes beyond PEP8 to cover the core of what the author thinks of as great Python style. Finxter - Solve Python puzzles and test your Python skill level (beginner to grandmaster level). Full Stack Python Once you know the basics, learn how to build, deploy and operate Python Applications. Python 3 Patterns, Recipes, and Idioms by Bruce Eckel and Friends. Learn Python Step by Step - Start learning python from the basics to pro-level and attain proficiency. Learn Python OverIQ - An entry-level course to get you started with Python Programming. Learn Python - Tutorial for Beginners A comprehensive Python guide to get started, Python tutorials, and examples for beginners. Free python tips and tutorials Python tips and tutorials for beginners and professional programmers. Intro to Python - A Brief Presentation about Python mainly aimed at experienced programmers. Might be nice as a first pass over the language. Learn Python in 10 minutes Python Course - This online Python course is aiming at beginners and with advanced topics at experienced programmers as well. Python Koans Learn Python through TDD Python Programming: An Introduction to Computer Science by John M. Zelle. Used for CS1 courses at Wartburg College, IA. A simple Tkinter-based graphics.py module is used in textbook examples (Python 2 and 3). Python Programming for Beginners A short introduction to writing command-line applications in Python by Jacek Artymiak. PythonSpeed.com Great resource with insightful ways to speed up your Python code Python Essential Reference (book) If you want a highly compressed K&R-style 'just the facts' overview, David Beazley's \"Python Essential Reference\" covers practically all of the language in about a hundred pages. A version that covers Python 3.7 is in progress. Resources for Learning Python 10 of the most popular / recommended platforms in the World when it comes to learning Python, either as a complete beginner or someone who knows their way around. Python Tutorial This tutorial is part of Python's documentation set and is updated with each new release. Wikiversity:Python The Wiki(anything) information about Python. Python Programming Tutorials Python programming tutorials. Python Tutorials Python in plain English. Learn Python - Programming Made Easy Simplified tutorials for beginners (Learn with relevant examples). Pandas Cookbook A newbie friendly introduction to pandas with real-life examples. Ultimate Python study guide Ultimate Python study guide for newcomers and professionals alike. \n",
      "Interactive Tools and Lessons\n",
      "Computer Science Circles How to Think Like a Computer Scientist, Interactive Edition Problem Solving with Algorithms and Data Structures using Python (second-level course) Python visualizer tool Thonny, Python IDE for beginners. Has intuitive features for program runtime visualization \n",
      "Python Video Tutorials\n",
      "Crawl the Web With Python - learn to build a web crawler and scraper (paid/commercial). Django Basics - An introductory course to learn basics of Django framework in great detail. MIT's Introduction to Computer Science and Programming in Python Khan Academy computer science playlist teaches Python. Python Exception Handling for beginners  - Exception handling with Python. Python Lists and Object Tutorial for Beginners - Sorting Objects with Python. Python OOP Tutorial for Beginners - Getting started with OOP programming with Python. Python Screencasts (36 videos) \n",
      "Python video tutorial (commercial/paid)\n",
      "Getting Started With Django - learn the Django back-end framework from scratch (paid/commercial) Build a News Aggregator With Django - learn advanced Django skills with a hands-on project (paid/commercial) Data Handling With Python - learn the basics of handling data in the Python language (paid/commercial). \n",
      "Free Python Courses\n",
      "Free Python 3 email course (almost daily Python lesson + cheat sheets, email required) Free Python 3 course (almost daily Python lesson + cheat sheets) \n",
      "Other Python Resource Aggregators\n",
      "Learn Python - Best Python Tutorials and Courses Python tutorials & courses recommended by the programming community. Learn Python - Best Python Courses Python tutorials submitted and ranked by Python developers with the best rising to the top  CategoryPythonWebsite \n",
      "\n",
      "Python for Programmers\n",
      "The tutorials on this page are aimed at people who have previous experience with other programming languages (C, Perl, Lisp, Visual Basic, etc.). Also of potential interest are such related Beginners Guides as BeginnersGuide/Overview and BeginnersGuide/NonProgrammers, and the tips in MovingToPythonFromOtherLanguages. \n",
      "Books, Websites, Tutorials (non-interactive)\n",
      "\n",
      "Resources\n",
      "A beginner-friendly Python tutorial that starts with the absolute basics, but also covers more advanced stuff like Python software deployment. After Hours Programming's Python Introduction A beginners introduction into Python. Awesome Python A curated list of awesome Python frameworks, libraries, software and resources. CheckiO interactive learning resource Creative way to improve Python skills with interesting tasks, it also supports Python 3|2. Classpert - Python - A collection of free and paid Python online courses, from a wide range of providers. CodersLegacy A website + blog geared towards both new and experienced programmers. Mainly focused on teaching Python. Dive Into Python 3 by Mark Pilgrim. Elements of Python Style This document goes beyond PEP8 to cover the core of what the author thinks of as great Python style. Finxter - Solve Python puzzles and test your Python skill level (beginner to grandmaster level). Full Stack Python Once you know the basics, learn how to build, deploy and operate Python Applications. Python 3 Patterns, Recipes, and Idioms by Bruce Eckel and Friends. Learn Python Step by Step - Start learning python from the basics to pro-level and attain proficiency. Learn Python OverIQ - An entry-level course to get you started with Python Programming. Learn Python - Tutorial for Beginners A comprehensive Python guide to get started, Python tutorials, and examples for beginners. Free python tips and tutorials Python tips and tutorials for beginners and professional programmers. Intro to Python - A Brief Presentation about Python mainly aimed at experienced programmers. Might be nice as a first pass over the language. Learn Python in 10 minutes Python Course - This online Python course is aiming at beginners and with advanced topics at experienced programmers as well. Python Koans Learn Python through TDD Python Programming: An Introduction to Computer Science by John M. Zelle. Used for CS1 courses at Wartburg College, IA. A simple Tkinter-based graphics.py module is used in textbook examples (Python 2 and 3). Python Programming for Beginners A short introduction to writing command-line applications in Python by Jacek Artymiak. PythonSpeed.com Great resource with insightful ways to speed up your Python code Python Essential Reference (book) If you want a highly compressed K&R-style 'just the facts' overview, David Beazley's \"Python Essential Reference\" covers practically all of the language in about a hundred pages. A version that covers Python 3.7 is in progress. Resources for Learning Python 10 of the most popular / recommended platforms in the World when it comes to learning Python, either as a complete beginner or someone who knows their way around. Python Tutorial This tutorial is part of Python's documentation set and is updated with each new release. Wikiversity:Python The Wiki(anything) information about Python. Python Programming Tutorials Python programming tutorials. Python Tutorials Python in plain English. Learn Python - Programming Made Easy Simplified tutorials for beginners (Learn with relevant examples). Pandas Cookbook A newbie friendly introduction to pandas with real-life examples. Ultimate Python study guide Ultimate Python study guide for newcomers and professionals alike. \n",
      "Interactive Tools and Lessons\n",
      "Computer Science Circles How to Think Like a Computer Scientist, Interactive Edition Problem Solving with Algorithms and Data Structures using Python (second-level course) Python visualizer tool Thonny, Python IDE for beginners. Has intuitive features for program runtime visualization \n",
      "Python Video Tutorials\n",
      "Crawl the Web With Python - learn to build a web crawler and scraper (paid/commercial). Django Basics - An introductory course to learn basics of Django framework in great detail. MIT's Introduction to Computer Science and Programming in Python Khan Academy computer science playlist teaches Python. Python Exception Handling for beginners  - Exception handling with Python. Python Lists and Object Tutorial for Beginners - Sorting Objects with Python. Python OOP Tutorial for Beginners - Getting started with OOP programming with Python. Python Screencasts (36 videos) \n",
      "Python video tutorial (commercial/paid)\n",
      "Getting Started With Django - learn the Django back-end framework from scratch (paid/commercial) Build a News Aggregator With Django - learn advanced Django skills with a hands-on project (paid/commercial) Data Handling With Python - learn the basics of handling data in the Python language (paid/commercial). \n",
      "Free Python Courses\n",
      "Free Python 3 email course (almost daily Python lesson + cheat sheets, email required) Free Python 3 course (almost daily Python lesson + cheat sheets) \n",
      "Other Python Resource Aggregators\n",
      "Learn Python - Best Python Tutorials and Courses Python tutorials & courses recommended by the programming community. Learn Python - Best Python Courses Python tutorials submitted and ranked by Python developers with the best rising to the top  CategoryPythonWebsite \n",
      "The tutorials on this page are aimed at people who have previous experience with other programming languages (C, Perl, Lisp, Visual Basic, etc.). Also of potential interest are such related Beginners Guides as BeginnersGuide/Overview and BeginnersGuide/NonProgrammers, and the tips in MovingToPythonFromOtherLanguages. \n",
      "Books, Websites, Tutorials (non-interactive)\n",
      "\n",
      "Resources\n",
      "A beginner-friendly Python tutorial that starts with the absolute basics, but also covers more advanced stuff like Python software deployment. After Hours Programming's Python Introduction A beginners introduction into Python. Awesome Python A curated list of awesome Python frameworks, libraries, software and resources. CheckiO interactive learning resource Creative way to improve Python skills with interesting tasks, it also supports Python 3|2. Classpert - Python - A collection of free and paid Python online courses, from a wide range of providers. CodersLegacy A website + blog geared towards both new and experienced programmers. Mainly focused on teaching Python. Dive Into Python 3 by Mark Pilgrim. Elements of Python Style This document goes beyond PEP8 to cover the core of what the author thinks of as great Python style. Finxter - Solve Python puzzles and test your Python skill level (beginner to grandmaster level). Full Stack Python Once you know the basics, learn how to build, deploy and operate Python Applications. Python 3 Patterns, Recipes, and Idioms by Bruce Eckel and Friends. Learn Python Step by Step - Start learning python from the basics to pro-level and attain proficiency. Learn Python OverIQ - An entry-level course to get you started with Python Programming. Learn Python - Tutorial for Beginners A comprehensive Python guide to get started, Python tutorials, and examples for beginners. Free python tips and tutorials Python tips and tutorials for beginners and professional programmers. Intro to Python - A Brief Presentation about Python mainly aimed at experienced programmers. Might be nice as a first pass over the language. Learn Python in 10 minutes Python Course - This online Python course is aiming at beginners and with advanced topics at experienced programmers as well. Python Koans Learn Python through TDD Python Programming: An Introduction to Computer Science by John M. Zelle. Used for CS1 courses at Wartburg College, IA. A simple Tkinter-based graphics.py module is used in textbook examples (Python 2 and 3). Python Programming for Beginners A short introduction to writing command-line applications in Python by Jacek Artymiak. PythonSpeed.com Great resource with insightful ways to speed up your Python code Python Essential Reference (book) If you want a highly compressed K&R-style 'just the facts' overview, David Beazley's \"Python Essential Reference\" covers practically all of the language in about a hundred pages. A version that covers Python 3.7 is in progress. Resources for Learning Python 10 of the most popular / recommended platforms in the World when it comes to learning Python, either as a complete beginner or someone who knows their way around. Python Tutorial This tutorial is part of Python's documentation set and is updated with each new release. Wikiversity:Python The Wiki(anything) information about Python. Python Programming Tutorials Python programming tutorials. Python Tutorials Python in plain English. Learn Python - Programming Made Easy Simplified tutorials for beginners (Learn with relevant examples). Pandas Cookbook A newbie friendly introduction to pandas with real-life examples. Ultimate Python study guide Ultimate Python study guide for newcomers and professionals alike. \n",
      "Interactive Tools and Lessons\n",
      "Computer Science Circles How to Think Like a Computer Scientist, Interactive Edition Problem Solving with Algorithms and Data Structures using Python (second-level course) Python visualizer tool Thonny, Python IDE for beginners. Has intuitive features for program runtime visualization \n",
      "Python Video Tutorials\n",
      "Crawl the Web With Python - learn to build a web crawler and scraper (paid/commercial). Django Basics - An introductory course to learn basics of Django framework in great detail. MIT's Introduction to Computer Science and Programming in Python Khan Academy computer science playlist teaches Python. Python Exception Handling for beginners  - Exception handling with Python. Python Lists and Object Tutorial for Beginners - Sorting Objects with Python. Python OOP Tutorial for Beginners - Getting started with OOP programming with Python. Python Screencasts (36 videos) \n",
      "Python video tutorial (commercial/paid)\n",
      "Getting Started With Django - learn the Django back-end framework from scratch (paid/commercial) Build a News Aggregator With Django - learn advanced Django skills with a hands-on project (paid/commercial) Data Handling With Python - learn the basics of handling data in the Python language (paid/commercial). \n",
      "Free Python Courses\n",
      "Free Python 3 email course (almost daily Python lesson + cheat sheets, email required) Free Python 3 course (almost daily Python lesson + cheat sheets) \n",
      "Other Python Resource Aggregators\n",
      "Learn Python - Best Python Tutorials and Courses Python tutorials & courses recommended by the programming community. Learn Python - Best Python Courses Python tutorials submitted and ranked by Python developers with the best rising to the top  CategoryPythonWebsite \n",
      "\n",
      "Books, Websites, Tutorials (non-interactive)\n",
      "\n",
      "Resources\n",
      "A beginner-friendly Python tutorial that starts with the absolute basics, but also covers more advanced stuff like Python software deployment. After Hours Programming's Python Introduction A beginners introduction into Python. Awesome Python A curated list of awesome Python frameworks, libraries, software and resources. CheckiO interactive learning resource Creative way to improve Python skills with interesting tasks, it also supports Python 3|2. Classpert - Python - A collection of free and paid Python online courses, from a wide range of providers. CodersLegacy A website + blog geared towards both new and experienced programmers. Mainly focused on teaching Python. Dive Into Python 3 by Mark Pilgrim. Elements of Python Style This document goes beyond PEP8 to cover the core of what the author thinks of as great Python style. Finxter - Solve Python puzzles and test your Python skill level (beginner to grandmaster level). Full Stack Python Once you know the basics, learn how to build, deploy and operate Python Applications. Python 3 Patterns, Recipes, and Idioms by Bruce Eckel and Friends. Learn Python Step by Step - Start learning python from the basics to pro-level and attain proficiency. Learn Python OverIQ - An entry-level course to get you started with Python Programming. Learn Python - Tutorial for Beginners A comprehensive Python guide to get started, Python tutorials, and examples for beginners. Free python tips and tutorials Python tips and tutorials for beginners and professional programmers. Intro to Python - A Brief Presentation about Python mainly aimed at experienced programmers. Might be nice as a first pass over the language. Learn Python in 10 minutes Python Course - This online Python course is aiming at beginners and with advanced topics at experienced programmers as well. Python Koans Learn Python through TDD Python Programming: An Introduction to Computer Science by John M. Zelle. Used for CS1 courses at Wartburg College, IA. A simple Tkinter-based graphics.py module is used in textbook examples (Python 2 and 3). Python Programming for Beginners A short introduction to writing command-line applications in Python by Jacek Artymiak. PythonSpeed.com Great resource with insightful ways to speed up your Python code Python Essential Reference (book) If you want a highly compressed K&R-style 'just the facts' overview, David Beazley's \"Python Essential Reference\" covers practically all of the language in about a hundred pages. A version that covers Python 3.7 is in progress. Resources for Learning Python 10 of the most popular / recommended platforms in the World when it comes to learning Python, either as a complete beginner or someone who knows their way around. Python Tutorial This tutorial is part of Python's documentation set and is updated with each new release. Wikiversity:Python The Wiki(anything) information about Python. Python Programming Tutorials Python programming tutorials. Python Tutorials Python in plain English. Learn Python - Programming Made Easy Simplified tutorials for beginners (Learn with relevant examples). Pandas Cookbook A newbie friendly introduction to pandas with real-life examples. Ultimate Python study guide Ultimate Python study guide for newcomers and professionals alike. \n",
      "Interactive Tools and Lessons\n",
      "Computer Science Circles How to Think Like a Computer Scientist, Interactive Edition Problem Solving with Algorithms and Data Structures using Python (second-level course) Python visualizer tool Thonny, Python IDE for beginners. Has intuitive features for program runtime visualization \n",
      "Python Video Tutorials\n",
      "Crawl the Web With Python - learn to build a web crawler and scraper (paid/commercial). Django Basics - An introductory course to learn basics of Django framework in great detail. MIT's Introduction to Computer Science and Programming in Python Khan Academy computer science playlist teaches Python. Python Exception Handling for beginners  - Exception handling with Python. Python Lists and Object Tutorial for Beginners - Sorting Objects with Python. Python OOP Tutorial for Beginners - Getting started with OOP programming with Python. Python Screencasts (36 videos) \n",
      "Python video tutorial (commercial/paid)\n",
      "Getting Started With Django - learn the Django back-end framework from scratch (paid/commercial) Build a News Aggregator With Django - learn advanced Django skills with a hands-on project (paid/commercial) Data Handling With Python - learn the basics of handling data in the Python language (paid/commercial). \n",
      "Free Python Courses\n",
      "Free Python 3 email course (almost daily Python lesson + cheat sheets, email required) Free Python 3 course (almost daily Python lesson + cheat sheets) \n",
      "Other Python Resource Aggregators\n",
      "Learn Python - Best Python Tutorials and Courses Python tutorials & courses recommended by the programming community. Learn Python - Best Python Courses Python tutorials submitted and ranked by Python developers with the best rising to the top  CategoryPythonWebsite \n",
      "\n",
      "Resources\n",
      "A beginner-friendly Python tutorial that starts with the absolute basics, but also covers more advanced stuff like Python software deployment. After Hours Programming's Python Introduction A beginners introduction into Python. Awesome Python A curated list of awesome Python frameworks, libraries, software and resources. CheckiO interactive learning resource Creative way to improve Python skills with interesting tasks, it also supports Python 3|2. Classpert - Python - A collection of free and paid Python online courses, from a wide range of providers. CodersLegacy A website + blog geared towards both new and experienced programmers. Mainly focused on teaching Python. Dive Into Python 3 by Mark Pilgrim. Elements of Python Style This document goes beyond PEP8 to cover the core of what the author thinks of as great Python style. Finxter - Solve Python puzzles and test your Python skill level (beginner to grandmaster level). Full Stack Python Once you know the basics, learn how to build, deploy and operate Python Applications. Python 3 Patterns, Recipes, and Idioms by Bruce Eckel and Friends. Learn Python Step by Step - Start learning python from the basics to pro-level and attain proficiency. Learn Python OverIQ - An entry-level course to get you started with Python Programming. Learn Python - Tutorial for Beginners A comprehensive Python guide to get started, Python tutorials, and examples for beginners. Free python tips and tutorials Python tips and tutorials for beginners and professional programmers. Intro to Python - A Brief Presentation about Python mainly aimed at experienced programmers. Might be nice as a first pass over the language. Learn Python in 10 minutes Python Course - This online Python course is aiming at beginners and with advanced topics at experienced programmers as well. Python Koans Learn Python through TDD Python Programming: An Introduction to Computer Science by John M. Zelle. Used for CS1 courses at Wartburg College, IA. A simple Tkinter-based graphics.py module is used in textbook examples (Python 2 and 3). Python Programming for Beginners A short introduction to writing command-line applications in Python by Jacek Artymiak. PythonSpeed.com Great resource with insightful ways to speed up your Python code Python Essential Reference (book) If you want a highly compressed K&R-style 'just the facts' overview, David Beazley's \"Python Essential Reference\" covers practically all of the language in about a hundred pages. A version that covers Python 3.7 is in progress. Resources for Learning Python 10 of the most popular / recommended platforms in the World when it comes to learning Python, either as a complete beginner or someone who knows their way around. Python Tutorial This tutorial is part of Python's documentation set and is updated with each new release. Wikiversity:Python The Wiki(anything) information about Python. Python Programming Tutorials Python programming tutorials. Python Tutorials Python in plain English. Learn Python - Programming Made Easy Simplified tutorials for beginners (Learn with relevant examples). Pandas Cookbook A newbie friendly introduction to pandas with real-life examples. Ultimate Python study guide Ultimate Python study guide for newcomers and professionals alike. \n",
      "Interactive Tools and Lessons\n",
      "Computer Science Circles How to Think Like a Computer Scientist, Interactive Edition Problem Solving with Algorithms and Data Structures using Python (second-level course) Python visualizer tool Thonny, Python IDE for beginners. Has intuitive features for program runtime visualization \n",
      "Python Video Tutorials\n",
      "Crawl the Web With Python - learn to build a web crawler and scraper (paid/commercial). Django Basics - An introductory course to learn basics of Django framework in great detail. MIT's Introduction to Computer Science and Programming in Python Khan Academy computer science playlist teaches Python. Python Exception Handling for beginners  - Exception handling with Python. Python Lists and Object Tutorial for Beginners - Sorting Objects with Python. Python OOP Tutorial for Beginners - Getting started with OOP programming with Python. Python Screencasts (36 videos) \n",
      "Python video tutorial (commercial/paid)\n",
      "Getting Started With Django - learn the Django back-end framework from scratch (paid/commercial) Build a News Aggregator With Django - learn advanced Django skills with a hands-on project (paid/commercial) Data Handling With Python - learn the basics of handling data in the Python language (paid/commercial). \n",
      "Free Python Courses\n",
      "Free Python 3 email course (almost daily Python lesson + cheat sheets, email required) Free Python 3 course (almost daily Python lesson + cheat sheets) \n",
      "Other Python Resource Aggregators\n",
      "Learn Python - Best Python Tutorials and Courses Python tutorials & courses recommended by the programming community. Learn Python - Best Python Courses Python tutorials submitted and ranked by Python developers with the best rising to the top  CategoryPythonWebsite \n",
      "A beginner-friendly Python tutorial that starts with the absolute basics, but also covers more advanced stuff like Python software deployment. \n",
      "After Hours Programming's Python Introduction A beginners introduction into Python. \n",
      "Awesome Python A curated list of awesome Python frameworks, libraries, software and resources. \n",
      "CheckiO interactive learning resource Creative way to improve Python skills with interesting tasks, it also supports Python 3|2. \n",
      "Classpert - Python - A collection of free and paid Python online courses, from a wide range of providers. \n",
      "CodersLegacy A website + blog geared towards both new and experienced programmers. Mainly focused on teaching Python. \n",
      "Dive Into Python 3 by Mark Pilgrim. \n",
      "Elements of Python Style This document goes beyond PEP8 to cover the core of what the author thinks of as great Python style. \n",
      "Finxter - Solve Python puzzles and test your Python skill level (beginner to grandmaster level). \n",
      "Full Stack Python Once you know the basics, learn how to build, deploy and operate Python Applications. \n",
      "Python 3 Patterns, Recipes, and Idioms by Bruce Eckel and Friends. \n",
      "Learn Python Step by Step - Start learning python from the basics to pro-level and attain proficiency. \n",
      "Learn Python OverIQ - An entry-level course to get you started with Python Programming. \n",
      "Learn Python - Tutorial for Beginners A comprehensive Python guide to get started, Python tutorials, and examples for beginners. \n",
      "Free python tips and tutorials Python tips and tutorials for beginners and professional programmers. \n",
      "Intro to Python - A Brief Presentation about Python mainly aimed at experienced programmers. Might be nice as a first pass over the language. \n",
      "Learn Python in 10 minutes \n",
      "Python Course - This online Python course is aiming at beginners and with advanced topics at experienced programmers as well. \n",
      "Python Koans Learn Python through TDD \n",
      "Python Programming: An Introduction to Computer Science by John M. Zelle. Used for CS1 courses at Wartburg College, IA. A simple Tkinter-based graphics.py module is used in textbook examples (Python 2 and 3). \n",
      "Python Programming for Beginners A short introduction to writing command-line applications in Python by Jacek Artymiak. \n",
      "PythonSpeed.com Great resource with insightful ways to speed up your Python code \n",
      "Python Essential Reference (book) If you want a highly compressed K&R-style 'just the facts' overview, David Beazley's \"Python Essential Reference\" covers practically all of the language in about a hundred pages. A version that covers Python 3.7 is in progress. \n",
      "Resources for Learning Python 10 of the most popular / recommended platforms in the World when it comes to learning Python, either as a complete beginner or someone who knows their way around. \n",
      "Python Tutorial This tutorial is part of Python's documentation set and is updated with each new release. \n",
      "Wikiversity:Python The Wiki(anything) information about Python. \n",
      "Python Programming Tutorials Python programming tutorials. \n",
      "Python Tutorials Python in plain English. \n",
      "Learn Python - Programming Made Easy Simplified tutorials for beginners (Learn with relevant examples). \n",
      "Pandas Cookbook A newbie friendly introduction to pandas with real-life examples. \n",
      "Ultimate Python study guide Ultimate Python study guide for newcomers and professionals alike. \n",
      "\n",
      "Interactive Tools and Lessons\n",
      "Computer Science Circles How to Think Like a Computer Scientist, Interactive Edition Problem Solving with Algorithms and Data Structures using Python (second-level course) Python visualizer tool Thonny, Python IDE for beginners. Has intuitive features for program runtime visualization \n",
      "Python Video Tutorials\n",
      "Crawl the Web With Python - learn to build a web crawler and scraper (paid/commercial). Django Basics - An introductory course to learn basics of Django framework in great detail. MIT's Introduction to Computer Science and Programming in Python Khan Academy computer science playlist teaches Python. Python Exception Handling for beginners  - Exception handling with Python. Python Lists and Object Tutorial for Beginners - Sorting Objects with Python. Python OOP Tutorial for Beginners - Getting started with OOP programming with Python. Python Screencasts (36 videos) \n",
      "Python video tutorial (commercial/paid)\n",
      "Getting Started With Django - learn the Django back-end framework from scratch (paid/commercial) Build a News Aggregator With Django - learn advanced Django skills with a hands-on project (paid/commercial) Data Handling With Python - learn the basics of handling data in the Python language (paid/commercial). \n",
      "Free Python Courses\n",
      "Free Python 3 email course (almost daily Python lesson + cheat sheets, email required) Free Python 3 course (almost daily Python lesson + cheat sheets) \n",
      "Other Python Resource Aggregators\n",
      "Learn Python - Best Python Tutorials and Courses Python tutorials & courses recommended by the programming community. Learn Python - Best Python Courses Python tutorials submitted and ranked by Python developers with the best rising to the top  CategoryPythonWebsite \n",
      "Computer Science Circles \n",
      "How to Think Like a Computer Scientist, Interactive Edition \n",
      "Problem Solving with Algorithms and Data Structures using Python (second-level course) \n",
      "Python visualizer tool \n",
      "Thonny, Python IDE for beginners. Has intuitive features for program runtime visualization \n",
      "\n",
      "Python Video Tutorials\n",
      "Crawl the Web With Python - learn to build a web crawler and scraper (paid/commercial). Django Basics - An introductory course to learn basics of Django framework in great detail. MIT's Introduction to Computer Science and Programming in Python Khan Academy computer science playlist teaches Python. Python Exception Handling for beginners  - Exception handling with Python. Python Lists and Object Tutorial for Beginners - Sorting Objects with Python. Python OOP Tutorial for Beginners - Getting started with OOP programming with Python. Python Screencasts (36 videos) \n",
      "Python video tutorial (commercial/paid)\n",
      "Getting Started With Django - learn the Django back-end framework from scratch (paid/commercial) Build a News Aggregator With Django - learn advanced Django skills with a hands-on project (paid/commercial) Data Handling With Python - learn the basics of handling data in the Python language (paid/commercial). \n",
      "Free Python Courses\n",
      "Free Python 3 email course (almost daily Python lesson + cheat sheets, email required) Free Python 3 course (almost daily Python lesson + cheat sheets) \n",
      "Other Python Resource Aggregators\n",
      "Learn Python - Best Python Tutorials and Courses Python tutorials & courses recommended by the programming community. Learn Python - Best Python Courses Python tutorials submitted and ranked by Python developers with the best rising to the top  CategoryPythonWebsite \n",
      "Crawl the Web With Python - learn to build a web crawler and scraper (paid/commercial). \n",
      "Django Basics - An introductory course to learn basics of Django framework in great detail. \n",
      "MIT's Introduction to Computer Science and Programming in Python \n",
      "Khan Academy computer science playlist teaches Python. \n",
      "Python Exception Handling for beginners  - Exception handling with Python. \n",
      "Python Lists and Object Tutorial for Beginners - Sorting Objects with Python. \n",
      "Python OOP Tutorial for Beginners - Getting started with OOP programming with Python. \n",
      "Python Screencasts (36 videos) \n",
      "\n",
      "Python video tutorial (commercial/paid)\n",
      "Getting Started With Django - learn the Django back-end framework from scratch (paid/commercial) Build a News Aggregator With Django - learn advanced Django skills with a hands-on project (paid/commercial) Data Handling With Python - learn the basics of handling data in the Python language (paid/commercial). \n",
      "Free Python Courses\n",
      "Free Python 3 email course (almost daily Python lesson + cheat sheets, email required) Free Python 3 course (almost daily Python lesson + cheat sheets) \n",
      "Other Python Resource Aggregators\n",
      "Learn Python - Best Python Tutorials and Courses Python tutorials & courses recommended by the programming community. Learn Python - Best Python Courses Python tutorials submitted and ranked by Python developers with the best rising to the top  CategoryPythonWebsite \n",
      "Getting Started With Django - learn the Django back-end framework from scratch (paid/commercial) \n",
      "Build a News Aggregator With Django - learn advanced Django skills with a hands-on project (paid/commercial) \n",
      "Data Handling With Python - learn the basics of handling data in the Python language (paid/commercial). \n",
      "\n",
      "Free Python Courses\n",
      "Free Python 3 email course (almost daily Python lesson + cheat sheets, email required) Free Python 3 course (almost daily Python lesson + cheat sheets) \n",
      "Other Python Resource Aggregators\n",
      "Learn Python - Best Python Tutorials and Courses Python tutorials & courses recommended by the programming community. Learn Python - Best Python Courses Python tutorials submitted and ranked by Python developers with the best rising to the top  CategoryPythonWebsite \n",
      "Free Python 3 email course (almost daily Python lesson + cheat sheets, email required) \n",
      "Free Python 3 course (almost daily Python lesson + cheat sheets) \n",
      "\n",
      "Other Python Resource Aggregators\n",
      "Learn Python - Best Python Tutorials and Courses Python tutorials & courses recommended by the programming community. Learn Python - Best Python Courses Python tutorials submitted and ranked by Python developers with the best rising to the top  CategoryPythonWebsite \n",
      "Learn Python - Best Python Tutorials and Courses Python tutorials & courses recommended by the programming community. \n",
      "Learn Python - Best Python Courses Python tutorials submitted and ranked by Python developers with the best rising to the top \n",
      " CategoryPythonWebsite \n",
      " CategoryPythonWebsite \n",
      "BeginnersGuide/Programmers  (last edited 2021-02-18 20:24:44 by eriky)\n",
      "Unable to edit the page? See the FrontPage for instructions.\n"
     ]
    }
   ],
   "source": [
    "# Coletando textos de parágrafos\n",
    "paragrafos = soup.find_all('p')\n",
    "for p in paragrafos:\n",
    "    texto = p.get_text()  #get_text: coleta os textos\n",
    "    print(texto)"
   ]
  },
  {
   "cell_type": "code",
   "execution_count": null,
   "metadata": {
    "id": "ndD-_cGPFD2W"
   },
   "outputs": [],
   "source": []
  }
 ],
 "metadata": {
  "colab": {
   "collapsed_sections": [],
   "name": "GITHUB Webscraping com Python.ipynb",
   "provenance": []
  },
  "kernelspec": {
   "display_name": "Python 3",
   "language": "python",
   "name": "python3"
  },
  "language_info": {
   "codemirror_mode": {
    "name": "ipython",
    "version": 3
   },
   "file_extension": ".py",
   "mimetype": "text/x-python",
   "name": "python",
   "nbconvert_exporter": "python",
   "pygments_lexer": "ipython3",
   "version": "3.8.5"
  }
 },
 "nbformat": 4,
 "nbformat_minor": 1
}
